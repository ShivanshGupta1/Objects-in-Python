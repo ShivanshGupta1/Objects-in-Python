{
  "nbformat": 4,
  "nbformat_minor": 0,
  "metadata": {
    "colab": {
      "name": "Object Oriented Programing.ipynb",
      "provenance": [],
      "collapsed_sections": [],
      "authorship_tag": "ABX9TyMAHzJUC3mDEsesLGO2fbpx",
      "include_colab_link": true
    },
    "kernelspec": {
      "name": "python3",
      "display_name": "Python 3"
    }
  },
  "cells": [
    {
      "cell_type": "markdown",
      "metadata": {
        "id": "view-in-github",
        "colab_type": "text"
      },
      "source": [
        "<a href=\"https://colab.research.google.com/github/ShivanshGupta1/Objects-in-Python/blob/main/Object_Oriented_Programing.ipynb\" target=\"_parent\"><img src=\"https://colab.research.google.com/assets/colab-badge.svg\" alt=\"Open In Colab\"/></a>"
      ]
    },
    {
      "cell_type": "code",
      "metadata": {
        "colab": {
          "base_uri": "https://localhost:8080/"
        },
        "id": "QhA_MK2U5a9m",
        "outputId": "a4c0e3ab-2517-426c-aaff-9a93e05b13f1"
      },
      "source": [
        "class Car: #Creating a class with class keyword\n",
        "  pass# Used to not give error\n",
        "suv = Car()#Constructor\n",
        "sedan = Car()\n",
        "print(suv)#Printing the object, will also print id\n",
        "print(sedan)"
      ],
      "execution_count": null,
      "outputs": [
        {
          "output_type": "stream",
          "text": [
            "<__main__.Car object at 0x7fb80fc55d30>\n",
            "<__main__.Car object at 0x7fb80fc555c0>\n"
          ],
          "name": "stdout"
        }
      ]
    },
    {
      "cell_type": "code",
      "metadata": {
        "colab": {
          "base_uri": "https://localhost:8080/"
        },
        "id": "Mey3GqJi8b2b",
        "outputId": "67e49486-ce6f-426a-d6c0-42554af48355"
      },
      "source": [
        "class Car: #Creating a class with class keyword\n",
        "  pass# Used to not give error\n",
        "suv = Car()#Constructor\n",
        "sedan = Car()\n",
        "suv.company = \"BMW\"\n",
        "suv.price = \"$100000\"\n",
        "suv.topspeed = \"250 km/h\" #Printing the object, will also print id\n",
        "sedan.company = \"Audi\"\n",
        "sedan.price = \"$150000\"\n",
        "sedan.topspeed = \"270 km/h\"\n",
        "print(\"The car\",suv.company,\"'s price is\", suv.price,\"with top speed as\",suv.topspeed)\n",
        "print(\"The car\",sedan.company,\"'s price is\", sedan.price,\"with top speed as\",sedan.topspeed)"
      ],
      "execution_count": null,
      "outputs": [
        {
          "output_type": "stream",
          "text": [
            "The car BMW 's price is $100000 with top speed as 250 km/h\n",
            "The car Audi 's price is $150000 with top speed as 270 km/h\n"
          ],
          "name": "stdout"
        }
      ]
    },
    {
      "cell_type": "code",
      "metadata": {
        "colab": {
          "base_uri": "https://localhost:8080/"
        },
        "id": "G87hbHOo_HV4",
        "outputId": "39cd989a-6d7c-4945-9eb0-033410aa7de3"
      },
      "source": [
        "class Car: #Creating a class with class keyword\n",
        "  def __init__ (self,company,price,topspeed):\n",
        "    self.company = company\n",
        "    self.price = price\n",
        "    self.topspeed = topspeed \n",
        "suv = Car(\"BMW\",\"$100000\",\"250 km/h\")\n",
        "print(suv.company)"
      ],
      "execution_count": null,
      "outputs": [
        {
          "output_type": "stream",
          "text": [
            "BMW\n"
          ],
          "name": "stdout"
        }
      ]
    },
    {
      "cell_type": "code",
      "metadata": {
        "colab": {
          "base_uri": "https://localhost:8080/"
        },
        "id": "IDvcMFovCSxv",
        "outputId": "8a52fbe3-c130-41bf-c875-6ce3556a23dc"
      },
      "source": [
        "class Operations:\n",
        "  def add(self,num1,num2):\n",
        "    return num1+num2\n",
        "  def subtract(self,num1,num2):\n",
        "    return num1-num2\n",
        "  def multiply(self,num1,num2):\n",
        "    return num1*num2\n",
        "  def divide(self,num1,num2):\n",
        "    return num1/num2\n",
        "operation = Operations()\n",
        "print(operation.multiply(2,2))"
      ],
      "execution_count": null,
      "outputs": [
        {
          "output_type": "stream",
          "text": [
            "4\n"
          ],
          "name": "stdout"
        }
      ]
    },
    {
      "cell_type": "code",
      "metadata": {
        "colab": {
          "base_uri": "https://localhost:8080/"
        },
        "id": "IivBJcyCEQdo",
        "outputId": "44fab642-069c-4daf-8592-eb878784379f"
      },
      "source": [
        "class Investment:\n",
        "  def __init__(self,principal,interest):\n",
        "    self.principal = principal\n",
        "    self.interest = interest\n",
        "  def value_after(self,years):\n",
        "    finalOutput =\" Principal - \"+str (self.principal)+\", Interest Rate - \"+ str (self.interest)+\", Investment - \"+ str ((self.principal*(1+self.interest)*years))\n",
        "    return finalOutput\n",
        "myInvestment = Investment(250,4.1/100)\n",
        "print(myInvestment.value_after(4))"
      ],
      "execution_count": null,
      "outputs": [
        {
          "output_type": "stream",
          "text": [
            " Principal - 250, Interest Rate - 0.040999999999999995, Investment - 1041.0\n"
          ],
          "name": "stdout"
        }
      ]
    },
    {
      "cell_type": "code",
      "metadata": {
        "colab": {
          "base_uri": "https://localhost:8080/"
        },
        "id": "aa4Z3hPr9M36",
        "outputId": "e381e083-f80a-4251-8b95-d2d49daf72fc"
      },
      "source": [
        "class Password_manager:\n",
        "  def __init__(self):\n",
        "    self.old_passwords = [\"1234\",\"9826\",\"2436\",\"2435\"]\n",
        "  def get_password(self):\n",
        "    return self.old_passwords[len(self.old_passwords)-1] \n",
        "  def set_password(self,newPassword):\n",
        "    if newPassword not in self.old_passwords:\n",
        "      self.old_passwords.append(newPassword)\n",
        "      return self.old_passwords\n",
        "    else:\n",
        "      return \"Please make a new password!\"\n",
        "  def is_correct(self,currentPassword):\n",
        "    if currentPassword==self.old_passwords[len(self.old_passwords)-1]:\n",
        "      return True\n",
        "    else:\n",
        "      return False\n",
        "myPassword = Password_manager()\n",
        "print(myPassword.set_password(\"12345\"))\n",
        "print(myPassword.is_correct(\"12345\"))"
      ],
      "execution_count": null,
      "outputs": [
        {
          "output_type": "stream",
          "text": [
            "['1234', '9826', '2436', '2435', '12345']\n",
            "True\n"
          ],
          "name": "stdout"
        }
      ]
    },
    {
      "cell_type": "code",
      "metadata": {
        "colab": {
          "base_uri": "https://localhost:8080/"
        },
        "id": "24GUh70jBbPe",
        "outputId": "a9a29be2-9a21-4e39-df97-9409863f4d90"
      },
      "source": [
        "class Product:\n",
        "  def __init__(self):\n",
        "    self.name = \"Oranges\"\n",
        "    self.amount = 500\n",
        "    self.price = 20\n",
        "  def get_price(self,amount):\n",
        "    if amount<10:\n",
        "      return \"You will have to pay \"+str (self.price*amount)\n",
        "    elif amount>10 and amount<99:\n",
        "      return \"You will have to pay \"+ str (amount*(self.price*(10/100)))\n",
        "    else:\n",
        "      return \"You will have to pay \"+ str (amount*(self.price*(20/100)))\n",
        "  def make_purchase(self,amount):\n",
        "    self.amount = self.amount-amount\n",
        "    return \"We have \" + str (self.amount)+\" Oranges left in stock.\"\n",
        "buyProduct = Product()\n",
        "print(buyProduct.get_price(11))\n",
        "print(buyProduct.make_purchase(11))"
      ],
      "execution_count": null,
      "outputs": [
        {
          "output_type": "stream",
          "text": [
            "You will have to pay 22.0\n",
            "We have 489 Oranges left in stock.\n"
          ],
          "name": "stdout"
        }
      ]
    },
    {
      "cell_type": "code",
      "metadata": {
        "colab": {
          "base_uri": "https://localhost:8080/"
        },
        "id": "F5WPVeJAEq1e",
        "outputId": "78c4458f-e129-4faa-a897-8de54929f225"
      },
      "source": [
        "wordsWithLength = []\n",
        "startWithLetter = []\n",
        "endsWithLetter = []\n",
        "palindromes = []\n",
        "only = []\n",
        "avoids = []\n",
        "class Wordplay:\n",
        "  def __init__(self):\n",
        "    self.words = [\"apple\",\"cat\",\"angry\",\"code\",\"python\",\"fire\",\"101\",\"mom\"]\n",
        "  def words_with_length(self,length):\n",
        "    for word in self.words:\n",
        "      if len(word) == length:\n",
        "        wordsWithLength.append(word)\n",
        "    return wordsWithLength\n",
        "  def starts_with(self,letter):\n",
        "    for word in self.words:\n",
        "      if word[:1] == letter:\n",
        "        startWithLetter.append(word)\n",
        "    return startWithLetter\n",
        "  def ends_with(self,letter):\n",
        "    for word in self.words:\n",
        "      if word[len(word)-1] == letter:\n",
        "        endsWithLetter.append(word)\n",
        "    return endsWithLetter\n",
        "  def palindromes(self):\n",
        "    for word in self.words:\n",
        "      if word[:len(word)] == word[::-1]:\n",
        "        palindromes.append(word)\n",
        "    return palindromes\n",
        "  def only(self,letter):\n",
        "    for word in self.words:\n",
        "      if letter in word:\n",
        "        only.append(word)\n",
        "    return only\n",
        "  def avoids(self,letter):\n",
        "    for word in self.words:\n",
        "      if letter not in word:\n",
        "        avoids.append(word)\n",
        "    return avoids\n",
        "myWords = Wordplay()\n",
        "print(myWords.avoids(\"c\"))"
      ],
      "execution_count": null,
      "outputs": [
        {
          "output_type": "stream",
          "text": [
            "['apple', 'angry', 'python', 'fire', '101', 'mom']\n"
          ],
          "name": "stdout"
        }
      ]
    },
    {
      "cell_type": "code",
      "metadata": {
        "colab": {
          "base_uri": "https://localhost:8080/"
        },
        "id": "N2VVy8mNQpsV",
        "outputId": "b8185752-1beb-46f3-c4cf-3ef4822e9b18"
      },
      "source": [
        "#Class Variable\n",
        "\n",
        "class employee:\n",
        "  raise_sal = 1.5\n",
        "  def __init__(self, firstName,lastName, salary):\n",
        "    self.firstName = firstName\n",
        "    self.lastName = lastName\n",
        "    self.salary = salary\n",
        "  def salary_increase(self):\n",
        "    return self.salary + self.salary*self.raise_sal\n",
        "employee1 = employee(\"Shivansh\",\"Gupta\",50000)\n",
        "employee2 = employee(\"Vivaan\",\"Sharma\",45000)\n",
        "employee3 = employee(\"Sahib\",\"Uberoi\",55000)\n",
        "employee1.raise_sal = 2.0\n",
        "employee2.raise_sal = 2.5\n",
        "employee3.raise_sal = 0.5\n",
        "print(employee1.salary_increase())\n",
        "print(employee2.salary_increase())\n",
        "print(employee3.salary_increase())"
      ],
      "execution_count": null,
      "outputs": [
        {
          "output_type": "stream",
          "text": [
            "150000.0\n",
            "157500.0\n",
            "82500.0\n"
          ],
          "name": "stdout"
        }
      ]
    },
    {
      "cell_type": "code",
      "metadata": {
        "colab": {
          "base_uri": "https://localhost:8080/"
        },
        "id": "lxzKKcX4UoOv",
        "outputId": "ac76a760-5557-4909-a288-642b9a23d970"
      },
      "source": [
        "#Inheritance -  When one class inherits property of another, there is a parent class and a child class\n",
        "class parent:\n",
        "  def __init__(self,a,b):\n",
        "    self.a = a\n",
        "    self.b = b\n",
        "  def m1(self):\n",
        "    return self.a + self.b\n",
        "  def m2(self):\n",
        "    return self.a*2\n",
        "class child(parent):\n",
        "  def __init__(self,a,b):\n",
        "    self.a = aa\n",
        "    self.b = b\n",
        "  def m3(self):\n",
        "    return self.a*4\n",
        "parent = parent(\"Hi \",\" There! \")\n",
        "child = child(\"Hello \",\"World \")\n",
        "print(parent.m2())\n",
        "print(child.m1())"
      ],
      "execution_count": null,
      "outputs": [
        {
          "output_type": "stream",
          "text": [
            "HiHi\n",
            "Hello World \n"
          ],
          "name": "stdout"
        }
      ]
    },
    {
      "cell_type": "code",
      "metadata": {
        "id": "98zfoR5KXxTZ"
      },
      "source": [
        "class parent:\n",
        "  def __init__(self,a,b):#Defining the constructor\n",
        "    self.a = a\n",
        "    self.b = b\n",
        "  def m1(self):#Defining the first method\n",
        "    return self.a + self.b\n",
        "  def m2(self):#Defining the second method\n",
        "    return self.a*2\n",
        "class child(parent):#Inheriting the properties\n",
        "  def __init__(self,a,b)::#The field names for the methods to work\n",
        "    self.a = a\n",
        "    self.b = b\n",
        "  def m2(self):#Overiding the moethod of parent class\n",
        "    return self.a*5\n",
        "  def m3(self):#One more method\n",
        "    return self.a*4\n",
        "parent = parent(\"Hi \",\" There! \")#Creating the object\n",
        "child = child(\"Hello \",\"World \")\n",
        "print(parent.m2())#Using the mehods and checking inheritance\n",
        "print(child.m2())"
      ],
      "execution_count": null,
      "outputs": []
    },
    {
      "cell_type": "code",
      "metadata": {
        "colab": {
          "base_uri": "https://localhost:8080/",
          "height": 885
        },
        "id": "JkoVTZtYZtkT",
        "outputId": "2d469bef-fb23-41b8-e34d-e78508c8619a"
      },
      "source": [
        "class TicTacToe:\n",
        "  def __init__(self):\n",
        "    self.board = [[\"-\",\"-\",\"-\"],#This is the board for the game\n",
        "                  [\"-\",\"-\",\"-\"],\n",
        "                  [\"-\",\"-\",\"-\"]]\n",
        "  def printBoard(self):#This is the function to print the board\n",
        "    for r in range(0,3) :\n",
        "      for c in range(0,3):\n",
        "        print(self.board[r][c], end =\"\")\n",
        "      print()\n",
        "    return \n",
        "  def player1(self, coordinates1):#This is the method that adds the coordinates for player 1\n",
        "    self.coordinates1 = coordinates1.split(\",\")\n",
        "    if self.board[int(self.coordinates1[0])][int(self.coordinates1[1])] == \"-\" :\n",
        "                                                                    \n",
        "      self.board[int(self.coordinates1[0])][int(self.coordinates1[1])] = \"X\"\n",
        "      self.printBoard()\n",
        "      return \"valid\"\n",
        "    else:   \n",
        "      return \"Invalid\"\n",
        "  def player2(self, coordinates2):#This is the method that adds the coordinates for player 2\n",
        "    self.coordinates2 = coordinates2.split(\",\")\n",
        "    if self.board[int(self.coordinates2[0])][int(self.coordinates2[1])]==\"-\":\n",
        "      self.board[int(self.coordinates2[0])][int(self.coordinates2[1])] = \"O\"\n",
        "      self.printBoard()\n",
        "    else:\n",
        "      return \"Invalid\"\n",
        "  def checkwin(self):#This method checks if there is a win\n",
        "    for r in range(0,3):\n",
        "      if self.board[r][0]==self.board[r][1]==self.board[r][2] and self.board[r][0]!=\"-\":\n",
        "        return \"Win by Horizontal\"\n",
        "    for c in range(0,3):\n",
        "      if self.board[0][c]==self.board[1][c]==self.board[2][c] and self.board[0][c]!=\"-\" :\n",
        "        return \"Win by Vertical\"\n",
        "      elif self.board[0][0]==self.board[1][1]==self.board[2][2] and self.board[0][0]!=\"-\" :\n",
        "        return \"Win by Diagonal\"\n",
        "      elif self.board[0][2]==self.board[1][1]==self.board[2][0] and self.board[0][2]!=\"-\" :\n",
        "        return \"Win by Diagonal\"\n",
        "  def tiechecker(self):#This method checks if there is a tie\n",
        "    tiecounter = 0\n",
        "    for e in self.board:\n",
        "      for e2 in e:\n",
        "        if e2.isalpha()==True:\n",
        "          tiecounter+=1\n",
        "    if tiecounter==9:\n",
        "      return \"Game is tied!\"\n",
        "game = TicTacToe()#The game object is created using the \"TicTacToe()\" constructor\n",
        "win = \"none\"#This is the variable to check the wins\n",
        "player1 = \"\"#This is the variable for the player 1 input\n",
        "player2 = \"\"#This is the variable for the player 2 input\n",
        "winchecker = \"\"#This is the second variable to check the wins\n",
        "game.printBoard()#This method prints the board\n",
        "while win==\"none\":#While the game is not at win...\n",
        "  player1 = input(\"Player 1 coordinates - \")#Take the player 1 input\n",
        "  invalid = \"\"#Create the invalid variable to check if the input is valid\n",
        "  invalid = game.player1(player1)#Store the valid/invalid output in that variable and show player 1 results\n",
        "  winchecker = game.checkwin()#Checks if the game is won\n",
        "  tiecheck = game.tiechecker()#Checks if the game is tied\n",
        "  if invalid==\"Invalid\":#Checks if the value is invalid, from the variable...\n",
        "    while invalid==\"Invalid\":#Then run a loop while it is invalid\n",
        "      player1 = input(\"Player 1 coordinates - \")#Ask for the coordinates again\n",
        "      game.player1(player1)#Now run the program again\n",
        "      invalid = \"\" #Now clear invalid so the loop ends\n",
        "  if winchecker==\"Win by Horizontal\" or winchecker==\"Win by Vertical\" or winchecker==\"Win by Diagonal\":#Check if the win is there\n",
        "    print(winchecker)#Print they won\n",
        "    break#Finish the loop by breaking it\n",
        "  if tiecheck==\"Game is tied!\":#Check if the tie is there\n",
        "    print(tiecheck)#Print they tied\n",
        "    break#Finish the loop by breaking it\n",
        "  player2 = input(\"Player 2 coordinates - \")#Take the player 2 input\n",
        "  invalid2 = \"\"#Create the invalid2 variable to check if the input is valid\n",
        "  invalid2 = game.player2(player2)#Store the valid/invalid output in that variable and show player 2 results\n",
        "  winchecker = game.checkwin()#Checks if the game is won\n",
        "  tiecheck = game.tiechecker()#Checks if the game is tied\n",
        "  if invalid2==\"Invalid\":#Checks if the value is invalid, from the variable...\n",
        "    while invalid2==\"Invalid\":#Then run a loop while it is invalid\n",
        "      player2 = input(\"Player 2 coordinates - \")#Ask for the coordinates again\n",
        "      game.player2(player2)#Now run the program again\n",
        "      invalid2 = \"\"#Now clear invalid so the loop ends\n",
        "  if winchecker==\"Win by Horizontal\" or winchecker==\"Win by Vertical\" or winchecker==\"Win by Diagonal\":#Check if the win is there\n",
        "    print(winchecker)#Print they won\n",
        "    break#Finish the loop by breaking it\n",
        "  if tiecheck==\"Game is tied!\":#Check if the tie is there\n",
        "    print(tiecheck)#Print they tied\n",
        "    break#Finish the loop by breaking it"
      ],
      "execution_count": null,
      "outputs": [
        {
          "output_type": "stream",
          "text": [
            "---\n",
            "---\n",
            "---\n",
            "Player 1 coordinates - 1,1\n",
            "---\n",
            "-X-\n",
            "---\n",
            "Player 2 coordinates - 1,0\n",
            "---\n",
            "OX-\n",
            "---\n",
            "Player 1 coordinates - 1,1\n",
            "Player 1 coordinates - 1,2\n",
            "---\n",
            "OXX\n",
            "---\n",
            "Player 2 coordinates - 1,2\n",
            "Player 2 coordinates - 2,0\n",
            "---\n",
            "OXX\n",
            "O--\n"
          ],
          "name": "stdout"
        },
        {
          "output_type": "error",
          "ename": "KeyboardInterrupt",
          "evalue": "ignored",
          "traceback": [
            "\u001b[0;31m---------------------------------------------------------------------------\u001b[0m",
            "\u001b[0;31mKeyboardInterrupt\u001b[0m                         Traceback (most recent call last)",
            "\u001b[0;32m/usr/local/lib/python3.6/dist-packages/ipykernel/kernelbase.py\u001b[0m in \u001b[0;36m_input_request\u001b[0;34m(self, prompt, ident, parent, password)\u001b[0m\n\u001b[1;32m    728\u001b[0m             \u001b[0;32mtry\u001b[0m\u001b[0;34m:\u001b[0m\u001b[0;34m\u001b[0m\u001b[0;34m\u001b[0m\u001b[0m\n\u001b[0;32m--> 729\u001b[0;31m                 \u001b[0mident\u001b[0m\u001b[0;34m,\u001b[0m \u001b[0mreply\u001b[0m \u001b[0;34m=\u001b[0m \u001b[0mself\u001b[0m\u001b[0;34m.\u001b[0m\u001b[0msession\u001b[0m\u001b[0;34m.\u001b[0m\u001b[0mrecv\u001b[0m\u001b[0;34m(\u001b[0m\u001b[0mself\u001b[0m\u001b[0;34m.\u001b[0m\u001b[0mstdin_socket\u001b[0m\u001b[0;34m,\u001b[0m \u001b[0;36m0\u001b[0m\u001b[0;34m)\u001b[0m\u001b[0;34m\u001b[0m\u001b[0;34m\u001b[0m\u001b[0m\n\u001b[0m\u001b[1;32m    730\u001b[0m             \u001b[0;32mexcept\u001b[0m \u001b[0mException\u001b[0m\u001b[0;34m:\u001b[0m\u001b[0;34m\u001b[0m\u001b[0;34m\u001b[0m\u001b[0m\n",
            "\u001b[0;32m/usr/local/lib/python3.6/dist-packages/jupyter_client/session.py\u001b[0m in \u001b[0;36mrecv\u001b[0;34m(self, socket, mode, content, copy)\u001b[0m\n\u001b[1;32m    802\u001b[0m         \u001b[0;32mtry\u001b[0m\u001b[0;34m:\u001b[0m\u001b[0;34m\u001b[0m\u001b[0;34m\u001b[0m\u001b[0m\n\u001b[0;32m--> 803\u001b[0;31m             \u001b[0mmsg_list\u001b[0m \u001b[0;34m=\u001b[0m \u001b[0msocket\u001b[0m\u001b[0;34m.\u001b[0m\u001b[0mrecv_multipart\u001b[0m\u001b[0;34m(\u001b[0m\u001b[0mmode\u001b[0m\u001b[0;34m,\u001b[0m \u001b[0mcopy\u001b[0m\u001b[0;34m=\u001b[0m\u001b[0mcopy\u001b[0m\u001b[0;34m)\u001b[0m\u001b[0;34m\u001b[0m\u001b[0;34m\u001b[0m\u001b[0m\n\u001b[0m\u001b[1;32m    804\u001b[0m         \u001b[0;32mexcept\u001b[0m \u001b[0mzmq\u001b[0m\u001b[0;34m.\u001b[0m\u001b[0mZMQError\u001b[0m \u001b[0;32mas\u001b[0m \u001b[0me\u001b[0m\u001b[0;34m:\u001b[0m\u001b[0;34m\u001b[0m\u001b[0;34m\u001b[0m\u001b[0m\n",
            "\u001b[0;32m/usr/local/lib/python3.6/dist-packages/zmq/sugar/socket.py\u001b[0m in \u001b[0;36mrecv_multipart\u001b[0;34m(self, flags, copy, track)\u001b[0m\n\u001b[1;32m    582\u001b[0m         \"\"\"\n\u001b[0;32m--> 583\u001b[0;31m         \u001b[0mparts\u001b[0m \u001b[0;34m=\u001b[0m \u001b[0;34m[\u001b[0m\u001b[0mself\u001b[0m\u001b[0;34m.\u001b[0m\u001b[0mrecv\u001b[0m\u001b[0;34m(\u001b[0m\u001b[0mflags\u001b[0m\u001b[0;34m,\u001b[0m \u001b[0mcopy\u001b[0m\u001b[0;34m=\u001b[0m\u001b[0mcopy\u001b[0m\u001b[0;34m,\u001b[0m \u001b[0mtrack\u001b[0m\u001b[0;34m=\u001b[0m\u001b[0mtrack\u001b[0m\u001b[0;34m)\u001b[0m\u001b[0;34m]\u001b[0m\u001b[0;34m\u001b[0m\u001b[0;34m\u001b[0m\u001b[0m\n\u001b[0m\u001b[1;32m    584\u001b[0m         \u001b[0;31m# have first part already, only loop while more to receive\u001b[0m\u001b[0;34m\u001b[0m\u001b[0;34m\u001b[0m\u001b[0;34m\u001b[0m\u001b[0m\n",
            "\u001b[0;32mzmq/backend/cython/socket.pyx\u001b[0m in \u001b[0;36mzmq.backend.cython.socket.Socket.recv\u001b[0;34m()\u001b[0m\n",
            "\u001b[0;32mzmq/backend/cython/socket.pyx\u001b[0m in \u001b[0;36mzmq.backend.cython.socket.Socket.recv\u001b[0;34m()\u001b[0m\n",
            "\u001b[0;32mzmq/backend/cython/socket.pyx\u001b[0m in \u001b[0;36mzmq.backend.cython.socket._recv_copy\u001b[0;34m()\u001b[0m\n",
            "\u001b[0;32m/usr/local/lib/python3.6/dist-packages/zmq/backend/cython/checkrc.pxd\u001b[0m in \u001b[0;36mzmq.backend.cython.checkrc._check_rc\u001b[0;34m()\u001b[0m\n",
            "\u001b[0;31mKeyboardInterrupt\u001b[0m: ",
            "\nDuring handling of the above exception, another exception occurred:\n",
            "\u001b[0;31mKeyboardInterrupt\u001b[0m                         Traceback (most recent call last)",
            "\u001b[0;32m<ipython-input-7-2554dee47866>\u001b[0m in \u001b[0;36m<module>\u001b[0;34m()\u001b[0m\n\u001b[1;32m     57\u001b[0m \u001b[0mgame\u001b[0m\u001b[0;34m.\u001b[0m\u001b[0mprintBoard\u001b[0m\u001b[0;34m(\u001b[0m\u001b[0;34m)\u001b[0m\u001b[0;34m\u001b[0m\u001b[0;34m\u001b[0m\u001b[0m\n\u001b[1;32m     58\u001b[0m \u001b[0;32mwhile\u001b[0m \u001b[0mwin\u001b[0m\u001b[0;34m==\u001b[0m\u001b[0;34m\"none\"\u001b[0m\u001b[0;34m:\u001b[0m\u001b[0;34m\u001b[0m\u001b[0;34m\u001b[0m\u001b[0m\n\u001b[0;32m---> 59\u001b[0;31m   \u001b[0mplayer1\u001b[0m \u001b[0;34m=\u001b[0m \u001b[0minput\u001b[0m\u001b[0;34m(\u001b[0m\u001b[0;34m\"Player 1 coordinates - \"\u001b[0m\u001b[0;34m)\u001b[0m\u001b[0;34m\u001b[0m\u001b[0;34m\u001b[0m\u001b[0m\n\u001b[0m\u001b[1;32m     60\u001b[0m   \u001b[0minvalid\u001b[0m \u001b[0;34m=\u001b[0m \u001b[0;34m\"\"\u001b[0m\u001b[0;34m\u001b[0m\u001b[0;34m\u001b[0m\u001b[0m\n\u001b[1;32m     61\u001b[0m   \u001b[0minvalid\u001b[0m \u001b[0;34m=\u001b[0m \u001b[0mgame\u001b[0m\u001b[0;34m.\u001b[0m\u001b[0mplayer1\u001b[0m\u001b[0;34m(\u001b[0m\u001b[0mplayer1\u001b[0m\u001b[0;34m)\u001b[0m\u001b[0;34m\u001b[0m\u001b[0;34m\u001b[0m\u001b[0m\n",
            "\u001b[0;32m/usr/local/lib/python3.6/dist-packages/ipykernel/kernelbase.py\u001b[0m in \u001b[0;36mraw_input\u001b[0;34m(self, prompt)\u001b[0m\n\u001b[1;32m    702\u001b[0m             \u001b[0mself\u001b[0m\u001b[0;34m.\u001b[0m\u001b[0m_parent_ident\u001b[0m\u001b[0;34m,\u001b[0m\u001b[0;34m\u001b[0m\u001b[0;34m\u001b[0m\u001b[0m\n\u001b[1;32m    703\u001b[0m             \u001b[0mself\u001b[0m\u001b[0;34m.\u001b[0m\u001b[0m_parent_header\u001b[0m\u001b[0;34m,\u001b[0m\u001b[0;34m\u001b[0m\u001b[0;34m\u001b[0m\u001b[0m\n\u001b[0;32m--> 704\u001b[0;31m             \u001b[0mpassword\u001b[0m\u001b[0;34m=\u001b[0m\u001b[0;32mFalse\u001b[0m\u001b[0;34m,\u001b[0m\u001b[0;34m\u001b[0m\u001b[0;34m\u001b[0m\u001b[0m\n\u001b[0m\u001b[1;32m    705\u001b[0m         )\n\u001b[1;32m    706\u001b[0m \u001b[0;34m\u001b[0m\u001b[0m\n",
            "\u001b[0;32m/usr/local/lib/python3.6/dist-packages/ipykernel/kernelbase.py\u001b[0m in \u001b[0;36m_input_request\u001b[0;34m(self, prompt, ident, parent, password)\u001b[0m\n\u001b[1;32m    732\u001b[0m             \u001b[0;32mexcept\u001b[0m \u001b[0mKeyboardInterrupt\u001b[0m\u001b[0;34m:\u001b[0m\u001b[0;34m\u001b[0m\u001b[0;34m\u001b[0m\u001b[0m\n\u001b[1;32m    733\u001b[0m                 \u001b[0;31m# re-raise KeyboardInterrupt, to truncate traceback\u001b[0m\u001b[0;34m\u001b[0m\u001b[0;34m\u001b[0m\u001b[0;34m\u001b[0m\u001b[0m\n\u001b[0;32m--> 734\u001b[0;31m                 \u001b[0;32mraise\u001b[0m \u001b[0mKeyboardInterrupt\u001b[0m\u001b[0;34m\u001b[0m\u001b[0;34m\u001b[0m\u001b[0m\n\u001b[0m\u001b[1;32m    735\u001b[0m             \u001b[0;32melse\u001b[0m\u001b[0;34m:\u001b[0m\u001b[0;34m\u001b[0m\u001b[0;34m\u001b[0m\u001b[0m\n\u001b[1;32m    736\u001b[0m                 \u001b[0;32mbreak\u001b[0m\u001b[0;34m\u001b[0m\u001b[0;34m\u001b[0m\u001b[0m\n",
            "\u001b[0;31mKeyboardInterrupt\u001b[0m: "
          ]
        }
      ]
    },
    {
      "cell_type": "code",
      "metadata": {
        "id": "zjNiCNGtOgQk"
      },
      "source": [
        ""
      ],
      "execution_count": null,
      "outputs": []
    }
  ]
}